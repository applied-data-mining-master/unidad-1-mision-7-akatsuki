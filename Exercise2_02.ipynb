{
 "cells": [
  {
   "cell_type": "markdown",
   "metadata": {},
   "source": [
    "# Exercise 2.02: Using Quandl to Load Stock Prices\n",
    "\n",
    "The goal of this exercise is to download data from the Quandl package and load it into a DataFrame like we previously did with Yahoo Finance.\n",
    "\n",
    "The following steps will help you to complete the exercise:"
   ]
  },
  {
   "cell_type": "markdown",
   "metadata": {},
   "source": [
    "1.- Use pip to install Quandl"
   ]
  },
  {
   "cell_type": "code",
   "execution_count": 1,
   "metadata": {},
   "outputs": [
    {
     "name": "stdout",
     "output_type": "stream",
     "text": [
      "Collecting quandl\n",
      "  Downloading Quandl-3.6.0-py2.py3-none-any.whl (26 kB)\n",
      "Requirement already satisfied: six in c:\\users\\aap27\\appdata\\local\\programs\\python\\python39\\lib\\site-packages (from quandl) (1.15.0)\n",
      "Requirement already satisfied: numpy>=1.8 in c:\\users\\aap27\\appdata\\local\\programs\\python\\python39\\lib\\site-packages (from quandl) (1.19.5)\n",
      "Requirement already satisfied: requests>=2.7.0 in c:\\users\\aap27\\appdata\\local\\programs\\python\\python39\\lib\\site-packages (from quandl) (2.25.1)\n",
      "Collecting more-itertools\n",
      "  Downloading more_itertools-8.7.0-py3-none-any.whl (48 kB)\n",
      "Requirement already satisfied: pandas>=0.14 in c:\\users\\aap27\\appdata\\local\\programs\\python\\python39\\lib\\site-packages (from quandl) (1.2.0)\n",
      "Collecting inflection>=0.3.1\n",
      "  Downloading inflection-0.5.1-py2.py3-none-any.whl (9.5 kB)\n",
      "Requirement already satisfied: python-dateutil in c:\\users\\aap27\\appdata\\local\\programs\\python\\python39\\lib\\site-packages (from quandl) (2.8.1)\n",
      "Requirement already satisfied: idna<3,>=2.5 in c:\\users\\aap27\\appdata\\local\\programs\\python\\python39\\lib\\site-packages (from requests>=2.7.0->quandl) (2.10)\n",
      "Requirement already satisfied: urllib3<1.27,>=1.21.1 in c:\\users\\aap27\\appdata\\local\\programs\\python\\python39\\lib\\site-packages (from requests>=2.7.0->quandl) (1.26.2)\n",
      "Requirement already satisfied: certifi>=2017.4.17 in c:\\users\\aap27\\appdata\\local\\programs\\python\\python39\\lib\\site-packages (from requests>=2.7.0->quandl) (2020.12.5)\n",
      "Requirement already satisfied: chardet<5,>=3.0.2 in c:\\users\\aap27\\appdata\\local\\programs\\python\\python39\\lib\\site-packages (from requests>=2.7.0->quandl) (4.0.0)\n",
      "Requirement already satisfied: pytz>=2017.3 in c:\\users\\aap27\\appdata\\local\\programs\\python\\python39\\lib\\site-packages (from pandas>=0.14->quandl) (2020.5)\n",
      "Installing collected packages: more-itertools, inflection, quandl\n",
      "Successfully installed inflection-0.5.1 more-itertools-8.7.0 quandl-3.6.0\n"
     ]
    },
    {
     "name": "stderr",
     "output_type": "stream",
     "text": [
      "WARNING: You are using pip version 20.2.3; however, version 21.0.1 is available.\n",
      "You should consider upgrading via the 'c:\\users\\aap27\\appdata\\local\\programs\\python\\python39\\python.exe -m pip install --upgrade pip' command.\n"
     ]
    }
   ],
   "source": [
    "!pip install quandl"
   ]
  },
  {
   "cell_type": "markdown",
   "metadata": {},
   "source": [
    "2.- Download the data into a DataFrame using Quandl for the S&P 500. Its ticker is `“YALE/SPCOMP”`"
   ]
  },
  {
   "cell_type": "code",
   "execution_count": 2,
   "metadata": {},
   "outputs": [],
   "source": [
    "import quandl\n",
    "data_frame = quandl.get(\"YALE/SPCOMP\")"
   ]
  },
  {
   "cell_type": "markdown",
   "metadata": {},
   "source": [
    "3.- Use the DataFrame `head()` method to inspect the first five rows of data in your DataFrame\n",
    "\n",
    "Output:\n",
    "\n",
    "![Figure 2.17](img/fig2_17.jpg)"
   ]
  },
  {
   "cell_type": "code",
   "execution_count": 3,
   "metadata": {},
   "outputs": [
    {
     "data": {
      "text/html": [
       "<div>\n",
       "<style scoped>\n",
       "    .dataframe tbody tr th:only-of-type {\n",
       "        vertical-align: middle;\n",
       "    }\n",
       "\n",
       "    .dataframe tbody tr th {\n",
       "        vertical-align: top;\n",
       "    }\n",
       "\n",
       "    .dataframe thead th {\n",
       "        text-align: right;\n",
       "    }\n",
       "</style>\n",
       "<table border=\"1\" class=\"dataframe\">\n",
       "  <thead>\n",
       "    <tr style=\"text-align: right;\">\n",
       "      <th></th>\n",
       "      <th>S&amp;P Composite</th>\n",
       "      <th>Dividend</th>\n",
       "      <th>Earnings</th>\n",
       "      <th>CPI</th>\n",
       "      <th>Long Interest Rate</th>\n",
       "      <th>Real Price</th>\n",
       "      <th>Real Dividend</th>\n",
       "      <th>Real Earnings</th>\n",
       "      <th>Cyclically Adjusted PE Ratio</th>\n",
       "    </tr>\n",
       "    <tr>\n",
       "      <th>Year</th>\n",
       "      <th></th>\n",
       "      <th></th>\n",
       "      <th></th>\n",
       "      <th></th>\n",
       "      <th></th>\n",
       "      <th></th>\n",
       "      <th></th>\n",
       "      <th></th>\n",
       "      <th></th>\n",
       "    </tr>\n",
       "  </thead>\n",
       "  <tbody>\n",
       "    <tr>\n",
       "      <th>1871-01-31</th>\n",
       "      <td>4.44</td>\n",
       "      <td>0.26</td>\n",
       "      <td>0.4</td>\n",
       "      <td>12.464061</td>\n",
       "      <td>5.320000</td>\n",
       "      <td>92.852594</td>\n",
       "      <td>5.437314</td>\n",
       "      <td>8.365099</td>\n",
       "      <td>NaN</td>\n",
       "    </tr>\n",
       "    <tr>\n",
       "      <th>1871-02-28</th>\n",
       "      <td>4.50</td>\n",
       "      <td>0.26</td>\n",
       "      <td>0.4</td>\n",
       "      <td>12.844641</td>\n",
       "      <td>5.323333</td>\n",
       "      <td>91.319006</td>\n",
       "      <td>5.276209</td>\n",
       "      <td>8.117245</td>\n",
       "      <td>NaN</td>\n",
       "    </tr>\n",
       "    <tr>\n",
       "      <th>1871-03-31</th>\n",
       "      <td>4.61</td>\n",
       "      <td>0.26</td>\n",
       "      <td>0.4</td>\n",
       "      <td>13.034972</td>\n",
       "      <td>5.326667</td>\n",
       "      <td>92.185256</td>\n",
       "      <td>5.199168</td>\n",
       "      <td>7.998721</td>\n",
       "      <td>NaN</td>\n",
       "    </tr>\n",
       "    <tr>\n",
       "      <th>1871-04-30</th>\n",
       "      <td>4.74</td>\n",
       "      <td>0.26</td>\n",
       "      <td>0.4</td>\n",
       "      <td>12.559226</td>\n",
       "      <td>5.330000</td>\n",
       "      <td>98.375305</td>\n",
       "      <td>5.396114</td>\n",
       "      <td>8.301714</td>\n",
       "      <td>NaN</td>\n",
       "    </tr>\n",
       "    <tr>\n",
       "      <th>1871-05-31</th>\n",
       "      <td>4.86</td>\n",
       "      <td>0.26</td>\n",
       "      <td>0.4</td>\n",
       "      <td>12.273812</td>\n",
       "      <td>5.333333</td>\n",
       "      <td>103.211350</td>\n",
       "      <td>5.521595</td>\n",
       "      <td>8.494761</td>\n",
       "      <td>NaN</td>\n",
       "    </tr>\n",
       "  </tbody>\n",
       "</table>\n",
       "</div>"
      ],
      "text/plain": [
       "            S&P Composite  Dividend  Earnings        CPI  Long Interest Rate  \\\n",
       "Year                                                                           \n",
       "1871-01-31           4.44      0.26       0.4  12.464061            5.320000   \n",
       "1871-02-28           4.50      0.26       0.4  12.844641            5.323333   \n",
       "1871-03-31           4.61      0.26       0.4  13.034972            5.326667   \n",
       "1871-04-30           4.74      0.26       0.4  12.559226            5.330000   \n",
       "1871-05-31           4.86      0.26       0.4  12.273812            5.333333   \n",
       "\n",
       "            Real Price  Real Dividend  Real Earnings  \\\n",
       "Year                                                   \n",
       "1871-01-31   92.852594       5.437314       8.365099   \n",
       "1871-02-28   91.319006       5.276209       8.117245   \n",
       "1871-03-31   92.185256       5.199168       7.998721   \n",
       "1871-04-30   98.375305       5.396114       8.301714   \n",
       "1871-05-31  103.211350       5.521595       8.494761   \n",
       "\n",
       "            Cyclically Adjusted PE Ratio  \n",
       "Year                                      \n",
       "1871-01-31                           NaN  \n",
       "1871-02-28                           NaN  \n",
       "1871-03-31                           NaN  \n",
       "1871-04-30                           NaN  \n",
       "1871-05-31                           NaN  "
      ]
     },
     "execution_count": 3,
     "metadata": {},
     "output_type": "execute_result"
    }
   ],
   "source": [
    "data_frame.head()"
   ]
  },
  {
   "cell_type": "markdown",
   "metadata": {},
   "source": [
    "By completing this exercise, we have learned how to download an external dataset in CSV format and import it as a DataFrame. We also learned about the `.head()` method, which provides a quick view of the first five rows of your DataFrame."
   ]
  },
  {
   "cell_type": "code",
   "execution_count": null,
   "metadata": {},
   "outputs": [],
   "source": []
  }
 ],
 "metadata": {
  "kernelspec": {
   "display_name": "Python 3",
   "language": "python",
   "name": "python3"
  },
  "language_info": {
   "codemirror_mode": {
    "name": "ipython",
    "version": 3
   },
   "file_extension": ".py",
   "mimetype": "text/x-python",
   "name": "python",
   "nbconvert_exporter": "python",
   "pygments_lexer": "ipython3",
   "version": "3.9.1"
  }
 },
 "nbformat": 4,
 "nbformat_minor": 4
}
